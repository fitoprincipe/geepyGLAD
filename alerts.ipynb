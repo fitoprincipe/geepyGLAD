{
 "cells": [
  {
   "cell_type": "code",
   "execution_count": 1,
   "metadata": {},
   "outputs": [],
   "source": [
    "import ee\n",
    "ee.Initialize()"
   ]
  },
  {
   "cell_type": "code",
   "execution_count": 2,
   "metadata": {},
   "outputs": [],
   "source": [
    "from geetools import tools, batch"
   ]
  },
  {
   "cell_type": "code",
   "execution_count": 3,
   "metadata": {},
   "outputs": [],
   "source": [
    "import ipygee as ui"
   ]
  },
  {
   "cell_type": "code",
   "execution_count": 4,
   "metadata": {},
   "outputs": [],
   "source": [
    "import datetime\n",
    "import math"
   ]
  },
  {
   "cell_type": "code",
   "execution_count": 5,
   "metadata": {},
   "outputs": [
    {
     "data": {
      "application/vnd.jupyter.widget-view+json": {
       "model_id": "7af6d00654f44d15b902208204670759",
       "version_major": 2,
       "version_minor": 0
      },
      "text/plain": [
       "Map(basemap={'url': 'https://{s}.tile.openstreetmap.org/{z}/{x}/{y}.png', 'attribution': 'Map data (c) <a href…"
      ]
     },
     "metadata": {},
     "output_type": "display_data"
    },
    {
     "data": {
      "application/vnd.jupyter.widget-view+json": {
       "model_id": "cda75cbca6154875be86a45af0c216e3",
       "version_major": 2,
       "version_minor": 0
      },
      "text/plain": [
       "Tab(children=(CustomInspector(children=(SelectMultiple(options=OrderedDict(), value=()), Accordion(selected_in…"
      ]
     },
     "metadata": {},
     "output_type": "display_data"
    }
   ],
   "source": [
    "Map = ui.Map()\n",
    "Map.show()"
   ]
  },
  {
   "cell_type": "code",
   "execution_count": 6,
   "metadata": {},
   "outputs": [],
   "source": [
    "provincias = ee.FeatureCollection('users/rprincipe/norte_argentina')"
   ]
  },
  {
   "cell_type": "code",
   "execution_count": 7,
   "metadata": {},
   "outputs": [],
   "source": [
    "def convert_provincias(feat):    \n",
    "    n = ee.String(feat.get('NAM'))\n",
    "\n",
    "    n = ee.String(ee.Algorithms.If(n.compareTo('Córdoba'), n, 'Cordoba'))\n",
    "    n = ee.String(ee.Algorithms.If(n.compareTo('San Juan'), n, 'San_Juan'))\n",
    "    n = ee.String(ee.Algorithms.If(n.compareTo('Santa Fe'), n, 'Santa_Fe'))\n",
    "    n = ee.String(ee.Algorithms.If(n.compareTo('Santiago del Estero'), n, 'Santiago_del_Estero'))\n",
    "    n = ee.String(ee.Algorithms.If(n.compareTo('Tucumán'), n, 'Tucuman'))\n",
    "\n",
    "    return feat.set('NAME', ee.String(n))"
   ]
  },
  {
   "cell_type": "code",
   "execution_count": 8,
   "metadata": {},
   "outputs": [],
   "source": [
    "provincias = provincias.map(convert_provincias)"
   ]
  },
  {
   "cell_type": "code",
   "execution_count": 9,
   "metadata": {},
   "outputs": [],
   "source": [
    "def get_province(fc, field, name):\n",
    "    return ee.Feature(fc.filterMetadata(field, 'equals', name).first())"
   ]
  },
  {
   "cell_type": "code",
   "execution_count": 10,
   "metadata": {},
   "outputs": [],
   "source": [
    "Map.addLayer(provincias, name='Provincias')"
   ]
  },
  {
   "cell_type": "code",
   "execution_count": 11,
   "metadata": {},
   "outputs": [],
   "source": [
    "maxFeatures = 3 # x 100"
   ]
  },
  {
   "cell_type": "code",
   "execution_count": 12,
   "metadata": {},
   "outputs": [],
   "source": [
    "# alerts\n",
    "alerts = ee.ImageCollection('projects/glad/alert/UpdResult')"
   ]
  },
  {
   "cell_type": "code",
   "execution_count": 13,
   "metadata": {},
   "outputs": [],
   "source": [
    "# get rid of projects/glad/alert/UpdResult/01_01_SBRA\n",
    "def rid_SBRA(img, l):\n",
    "    l = ee.List(l)\n",
    "    theid = img.id()\n",
    "    return ee.Algorithms.If(theid.compareTo('01_01_SBRA'), l.add(img), l)\n",
    "\n",
    "alerts = ee.List(alerts.iterate(rid_SBRA, ee.List([])))\n",
    "alerts = ee.ImageCollection.fromImages(alerts)"
   ]
  },
  {
   "cell_type": "code",
   "execution_count": 14,
   "metadata": {},
   "outputs": [],
   "source": [
    "# change field\n",
    "change_fld = 'conf19'\n",
    "\n",
    "country_alerts = alerts.filterBounds(provincias.geometry())\n",
    "\n",
    "today = datetime.date.today()\n",
    "\n",
    "scale = 30"
   ]
  },
  {
   "cell_type": "code",
   "execution_count": 48,
   "metadata": {},
   "outputs": [],
   "source": [
    "def get_days(collection, month, year):\n",
    "    def wrap(img):\n",
    "        d = img.date()\n",
    "        m = d.get('month')\n",
    "        y = d.get('year')\n",
    "        return img.set('MONTH', m, 'YEAR', y)\n",
    "    \n",
    "    col_date = collection.map(wrap)\n",
    "\n",
    "    filtered = col_date.filterMetadata('MONTH', 'equals', month).filterMetadata('YEAR', 'equals', year)\n",
    "    \n",
    "    def iteration(img, l):\n",
    "        l = ee.List(l)\n",
    "        img = ee.Image(img)\n",
    "        d = img.date().get('day')\n",
    "        return l.add(d)\n",
    "    \n",
    "    days = ee.List(filtered.iterate(iteration, ee.List([]))).sort()\n",
    "    days_str = days.map(lambda d: ee.Number(d))\n",
    "\n",
    "    return days_str.distinct()"
   ]
  },
  {
   "cell_type": "code",
   "execution_count": 49,
   "metadata": {},
   "outputs": [
    {
     "data": {
      "application/vnd.jupyter.widget-view+json": {
       "model_id": "880c92657694444c88dec47fd35c7d8b",
       "version_major": 2,
       "version_minor": 0
      },
      "text/plain": [
       "VBox(children=(Accordion(children=(Output(),), _titles={'0': 'Loading...'}),))"
      ]
     },
     "metadata": {},
     "output_type": "display_data"
    }
   ],
   "source": [
    "ui.eprint(get_days(alerts, 6, 2019))"
   ]
  },
  {
   "cell_type": "code",
   "execution_count": 16,
   "metadata": {},
   "outputs": [],
   "source": [
    "def get_pixel_limit(area, scale=30):\n",
    "    return math.floor((area*10000)/(scale*scale))"
   ]
  },
  {
   "cell_type": "code",
   "execution_count": 17,
   "metadata": {},
   "outputs": [],
   "source": [
    "def confirmed_mask(collection):\n",
    "    last2 = collection.limit(2, 'system:time_start', False)\n",
    "    last2list = last2.toList(2)\n",
    "    \n",
    "    last_img = ee.Image(last2list.get(0))\n",
    "    last_conf = last_img.select('conf19')\n",
    "    \n",
    "    before_img = ee.Image(last2list.get(1))\n",
    "    before_conf = before_img.select('conf19')\n",
    "\n",
    "    confirmed = last_conf.eq(3).And(before_conf.eq(2)).rename('confirmed')\n",
    "\n",
    "    doy = last_img.select('alertDate19').rename('alert_doy')\n",
    "\n",
    "    return last_img.addBands([confirmed, doy]).updateMask(confirmed).unmask()"
   ]
  },
  {
   "cell_type": "code",
   "execution_count": 18,
   "metadata": {},
   "outputs": [],
   "source": [
    "def probable_mask(collection):\n",
    "    last2 = collection.limit(2, 'system:time_start', False)\n",
    "    last2list = last2.toList(2)\n",
    "    \n",
    "    last_img = ee.Image(last2list.get(0))\n",
    "    last_mask = last_img.select('conf19')\n",
    "    \n",
    "    before_img = ee.Image(last2list.get(1))\n",
    "    before_mask = before_img.select('conf19')\n",
    "    \n",
    "    new_probable = last_mask.eq(2).And(before_mask.eq(0)).rename('probable')\n",
    "    \n",
    "    return last_img.addBands(new_probable).updateMask(new_probable).unmask()"
   ]
  },
  {
   "cell_type": "code",
   "execution_count": 19,
   "metadata": {},
   "outputs": [],
   "source": [
    "def get_rid_min_area(bool_image, limit):\n",
    "    # Returns a mask\n",
    "\n",
    "    # get connected pixels\n",
    "    conn = bool_image.connectedPixelCount(1000).rename('connected')\n",
    "\n",
    "    # add mask and connected\n",
    "    lossconn = bool_image.addBands(conn)\n",
    "\n",
    "    # get holes and islands\n",
    "    island = bool_image.eq(1).And(conn.lte(limit))\n",
    "    holes = bool_image.eq(0).And(conn.lte(limit))\n",
    "\n",
    "    # fill holes\n",
    "    filled = bool_image.where(holes, 1)\n",
    "    # get rid island\n",
    "    no_island = filled.where(island, 0)\n",
    "\n",
    "    return no_island"
   ]
  },
  {
   "cell_type": "code",
   "execution_count": 20,
   "metadata": {},
   "outputs": [],
   "source": [
    "def make_smooth(image, alg):\n",
    "    if (alg == 'no smooth'):\n",
    "        result = image\n",
    "    elif (alg == 'max'):\n",
    "        result = image.focal_max()\n",
    "    elif (alg == 'mode'):\n",
    "        result = image.focal_mode()\n",
    "\n",
    "    return result.set('system:time_start', image.date().millis())"
   ]
  },
  {
   "cell_type": "code",
   "execution_count": 63,
   "metadata": {},
   "outputs": [],
   "source": [
    "def histogram(alert, clas, region=None):\n",
    "    \n",
    "    if not region:\n",
    "        region = alert.geometry()\n",
    "    \n",
    "    result = alert.select(clas).reduceRegion(**{\n",
    "        'reducer': ee.Reducer.fixedHistogram(0, 2, 2),\n",
    "        'geometry': region,\n",
    "        'scale': alert.projection().nominalScale(),\n",
    "        'maxPixels': 1e13\n",
    "    })\n",
    "    \n",
    "    result = result.get(clas)\n",
    "\n",
    "    count = ee.Number(ee.Algorithms.If(result, ee.Array(result).get([1, 1]),0))\n",
    "\n",
    "    return count"
   ]
  },
  {
   "cell_type": "code",
   "execution_count": 22,
   "metadata": {},
   "outputs": [],
   "source": [
    "def make_vector(image, region):\n",
    "    reducer = ee.Reducer.max()\n",
    "    vector = image.reduceToVectors(**{\n",
    "        'geometry': region,\n",
    "        'reducer': reducer,\n",
    "        'scale': image.select([0]).projection().nominalScale(),\n",
    "        'maxPixels': 1e13\n",
    "    })\n",
    "    return vector"
   ]
  },
  {
   "cell_type": "code",
   "execution_count": 23,
   "metadata": {},
   "outputs": [],
   "source": [
    "def get_probable(collection, site, date, limit=1, smooth='max'):\n",
    "    date = ee.Date(date)\n",
    "    \n",
    "    # filter collection up to selected date\n",
    "    start = ee.Date.fromYMD(d.get('year'), 1, 1)\n",
    "    col = collection.filterDate(ee.Date(start), date.advance(1, 'day'))\n",
    "    \n",
    "    col = col.filterBounds(site)\n",
    "\n",
    "    # get loss\n",
    "    loss = probable_mask(col)\n",
    "\n",
    "    # loss mask\n",
    "    loss_mask = loss.select('probable')\n",
    "\n",
    "    # observation date\n",
    "    alertDate = loss.select('alertDate19')\n",
    "\n",
    "    # get rid of min area\n",
    "    final_mask = get_rid_min_area(loss_mask, limit)\n",
    "\n",
    "    # smooth\n",
    "    final_mask = make_smooth(final_mask, smooth)\n",
    "\n",
    "    # add doy band\n",
    "    smooth_alertDate = make_smooth(alertDate, 'max').rename('alert_doy')\n",
    "\n",
    "    # add date band\n",
    "    dateBand =  tools.image.doyToDate(smooth_alertDate).rename('alert_date')\n",
    "\n",
    "    final = final_mask.addBands([smooth_alertDate, dateBand]).updateMask(final_mask)\n",
    "\n",
    "    return final"
   ]
  },
  {
   "cell_type": "code",
   "execution_count": 24,
   "metadata": {},
   "outputs": [],
   "source": [
    "def dateFromDatetime(dt):\n",
    "    return ee.Date(dt.isoformat())"
   ]
  },
  {
   "cell_type": "code",
   "execution_count": 25,
   "metadata": {},
   "outputs": [],
   "source": [
    "d = dateFromDatetime(today)"
   ]
  },
  {
   "cell_type": "code",
   "execution_count": 26,
   "metadata": {},
   "outputs": [],
   "source": [
    "def get_confirmed(collection, site, date, limit=1, smooth='max'):\n",
    "    date = ee.Date(date)\n",
    "    \n",
    "    # filter collection up to selected date\n",
    "    start = ee.Date.fromYMD(date.get('year'), 1, 1)\n",
    "    col = country_alerts.filterDate(ee.Date(start), date.advance(1, 'day'))\n",
    "    \n",
    "    col = col.filterBounds(site)\n",
    "    \n",
    "    # get mask\n",
    "    loss = confirmed_mask(col)\n",
    "\n",
    "    # get rid of min area\n",
    "    final_mask = get_rid_min_area(loss.select('confirmed'), limit)\n",
    "\n",
    "    # smooth\n",
    "    final_mask = make_smooth(final_mask, smooth)\n",
    "\n",
    "    # mask doy\n",
    "    doy = loss.select('alert_doy')\n",
    "    \n",
    "    # focal_max doy\n",
    "    smooth_alertDate = make_smooth(doy, smooth)\n",
    "\n",
    "    # add date band\n",
    "    dateBand =  tools.image.doyToDate(smooth_alertDate).rename('alert_date')\n",
    "\n",
    "    return final_mask.addBands([dateBand, smooth_alertDate]).updateMask(final_mask)"
   ]
  },
  {
   "cell_type": "code",
   "execution_count": 27,
   "metadata": {},
   "outputs": [],
   "source": [
    "tuc = get_province(provincias, 'NAME', 'Tucuman')"
   ]
  },
  {
   "cell_type": "code",
   "execution_count": 28,
   "metadata": {},
   "outputs": [],
   "source": [
    "prob = get_probable(alerts, tuc.geometry(), '2019-04-20')"
   ]
  },
  {
   "cell_type": "code",
   "execution_count": 29,
   "metadata": {},
   "outputs": [],
   "source": [
    "Map.addLayer(prob, name='probable')"
   ]
  },
  {
   "cell_type": "code",
   "execution_count": 64,
   "metadata": {},
   "outputs": [
    {
     "data": {
      "application/vnd.jupyter.widget-view+json": {
       "model_id": "7a1e28b8c6da4985995c3366cb155e8e",
       "version_major": 2,
       "version_minor": 0
      },
      "text/plain": [
       "VBox(children=(Accordion(children=(Output(),), _titles={'0': 'Loading...'}),))"
      ]
     },
     "metadata": {},
     "output_type": "display_data"
    }
   ],
   "source": [
    "ui.eprint(histogram(prob, 'probable', tuc.geometry()))"
   ]
  },
  {
   "cell_type": "code",
   "execution_count": 30,
   "metadata": {},
   "outputs": [],
   "source": [
    "def download_alert(collection, clas, date, region, min_area=1, smooth='max', max_features=3):\n",
    "    \n",
    "    funcs = {'probable': get_probable, 'confirmed': get_confirmed}\n",
    "        \n",
    "    limit = get_pixel_limit(min_area)\n",
    "    alert = funcs[clas](collection, region, date, limit, smooth)\n",
    "\n",
    "    count = histogram(alert, clas, region)\n",
    "\n",
    "    def download(i):\n",
    "\n",
    "        vector = ee.FeatureCollection(ee.Algorithms.If(count,\n",
    "        make_vector(alert, region), ee.FeatureCollection([])))\n",
    "\n",
    "        vlist = vector.toList(100, i*100)\n",
    "\n",
    "        v = ee.FeatureCollection(vlist)\n",
    "\n",
    "        msg = '{}_alert_for_{}_{}'.format(clas, date, i)\n",
    "        no_msg = 'No {} alerts for {} {}'.format(clas, date, i)\n",
    "\n",
    "        name = ee.String(ee.Algorithms.If(v.size(), msg, no_msg))\n",
    "        \n",
    "        name_cli = name.getInfo()\n",
    "        \n",
    "        print(name_cli)\n",
    "        if name_cli != no_msg:\n",
    "            url = vector.getDownloadURL(**{\n",
    "                'filetype': 'json', \n",
    "                'filename': name_cli\n",
    "            })\n",
    "            print(url)\n",
    "\n",
    "    for i in range(max_features+1):\n",
    "        download(i)"
   ]
  },
  {
   "cell_type": "code",
   "execution_count": 32,
   "metadata": {},
   "outputs": [
    {
     "name": "stdout",
     "output_type": "stream",
     "text": [
      "No probable alerts for 2019-06-11 0\n",
      "No probable alerts for 2019-06-11 1\n",
      "No probable alerts for 2019-06-11 2\n",
      "No probable alerts for 2019-06-11 3\n"
     ]
    }
   ],
   "source": [
    "download_alert(alerts, 'probable', '2019-06-11', tuc.geometry())"
   ]
  },
  {
   "cell_type": "code",
   "execution_count": 34,
   "metadata": {},
   "outputs": [
    {
     "data": {
      "application/vnd.jupyter.widget-view+json": {
       "model_id": "e6e6263db7c54617a7bb20434109be70",
       "version_major": 2,
       "version_minor": 0
      },
      "text/plain": [
       "VBox(children=(Accordion(children=(Output(),), _titles={'0': 'Loading...'}),))"
      ]
     },
     "metadata": {},
     "output_type": "display_data"
    }
   ],
   "source": [
    "ui.eprint(get_days(alerts, 6, 2019))"
   ]
  },
  {
   "cell_type": "code",
   "execution_count": 36,
   "metadata": {},
   "outputs": [
    {
     "data": {
      "text/plain": [
       "'2019-06-10T08:43:29.627022'"
      ]
     },
     "execution_count": 36,
     "metadata": {},
     "output_type": "execute_result"
    }
   ],
   "source": [
    "datetime.datetime.today().isoformat()"
   ]
  },
  {
   "cell_type": "code",
   "execution_count": 52,
   "metadata": {},
   "outputs": [],
   "source": [
    "r = ee.Image.random(1)\n",
    "rm = r.gt(0.8)\n",
    "r = r.updateMask(rm)"
   ]
  },
  {
   "cell_type": "code",
   "execution_count": 55,
   "metadata": {},
   "outputs": [],
   "source": [
    "Map.addLayer(r, {'palette':['red']}, name='random red')"
   ]
  },
  {
   "cell_type": "code",
   "execution_count": 56,
   "metadata": {},
   "outputs": [],
   "source": [
    "test = ee.Image.focal_max(r)"
   ]
  },
  {
   "cell_type": "code",
   "execution_count": 57,
   "metadata": {},
   "outputs": [],
   "source": [
    "Map.addLayer(test, {'palette':['orange']}, name='test')"
   ]
  },
  {
   "cell_type": "code",
   "execution_count": 67,
   "metadata": {},
   "outputs": [],
   "source": [
    "year = ee.String('2019')"
   ]
  },
  {
   "cell_type": "code",
   "execution_count": 69,
   "metadata": {},
   "outputs": [
    {
     "data": {
      "application/vnd.jupyter.widget-view+json": {
       "model_id": "7cfdf35bcd974907ba9e53d27f194bac",
       "version_major": 2,
       "version_minor": 0
      },
      "text/plain": [
       "VBox(children=(Accordion(children=(Output(),), _titles={'0': 'Loading...'}),))"
      ]
     },
     "metadata": {},
     "output_type": "display_data"
    }
   ],
   "source": [
    "ui.eprint(year.slice(2))"
   ]
  },
  {
   "cell_type": "code",
   "execution_count": null,
   "metadata": {},
   "outputs": [],
   "source": []
  }
 ],
 "metadata": {
  "kernelspec": {
   "display_name": "Python 3",
   "language": "python",
   "name": "python3"
  },
  "language_info": {
   "codemirror_mode": {
    "name": "ipython",
    "version": 3
   },
   "file_extension": ".py",
   "mimetype": "text/x-python",
   "name": "python",
   "nbconvert_exporter": "python",
   "pygments_lexer": "ipython3",
   "version": "3.5.2"
  }
 },
 "nbformat": 4,
 "nbformat_minor": 2
}
